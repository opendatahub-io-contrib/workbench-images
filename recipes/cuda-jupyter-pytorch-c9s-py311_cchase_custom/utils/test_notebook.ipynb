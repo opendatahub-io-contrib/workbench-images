{
 "cells": [
  {
   "cell_type": "code",
   "execution_count": null,
   "id": "d9d5de4c-07a0-46dd-a60d-6c8f688cc80c",
   "metadata": {},
   "outputs": [],
   "source": [
    "print('It works!')"
   ]
  }
 ],
 "metadata": {
  "kernelspec": {
   "display_name": "Python 3",
   "language": "python",
   "name": "python3"
  },
  "language_info": {
   "codemirror_mode": {
    "name": "ipython",
    "version": 3
   },
   "file_extension": ".py",
   "mimetype": "text/x-python",
   "name": "python",
   "nbconvert_exporter": "python",
   "pygments_lexer": "ipython3",
   "version": "3.8.12"
  }
 },
 "nbformat": 4,
 "nbformat_minor": 5
}
